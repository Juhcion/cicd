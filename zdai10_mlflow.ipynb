{
  "nbformat": 4,
  "nbformat_minor": 0,
  "metadata": {
    "colab": {
      "provenance": []
    },
    "kernelspec": {
      "name": "python3",
      "display_name": "Python 3"
    },
    "language_info": {
      "name": "python"
    },
    "widgets": {
      "application/vnd.jupyter.widget-state+json": {
        "528f1a13e05a4c729e41fb3903484b07": {
          "model_module": "@jupyter-widgets/controls",
          "model_name": "HBoxModel",
          "model_module_version": "1.5.0",
          "state": {
            "_dom_classes": [],
            "_model_module": "@jupyter-widgets/controls",
            "_model_module_version": "1.5.0",
            "_model_name": "HBoxModel",
            "_view_count": null,
            "_view_module": "@jupyter-widgets/controls",
            "_view_module_version": "1.5.0",
            "_view_name": "HBoxView",
            "box_style": "",
            "children": [
              "IPY_MODEL_a61383fd7541482297cf06aabb97701b",
              "IPY_MODEL_4e5015a399804b769cea786a812d1f59",
              "IPY_MODEL_5e3c79e82beb469998acd3abb4734dcf"
            ],
            "layout": "IPY_MODEL_5787fcee25944db79fc4debf9489d818"
          }
        },
        "a61383fd7541482297cf06aabb97701b": {
          "model_module": "@jupyter-widgets/controls",
          "model_name": "HTMLModel",
          "model_module_version": "1.5.0",
          "state": {
            "_dom_classes": [],
            "_model_module": "@jupyter-widgets/controls",
            "_model_module_version": "1.5.0",
            "_model_name": "HTMLModel",
            "_view_count": null,
            "_view_module": "@jupyter-widgets/controls",
            "_view_module_version": "1.5.0",
            "_view_name": "HTMLView",
            "description": "",
            "description_tooltip": null,
            "layout": "IPY_MODEL_ae460992d39b46b09882eab38ecd1816",
            "placeholder": "​",
            "style": "IPY_MODEL_d4466e5fa8f44751a22b4f8d4a48f6ac",
            "value": "Downloading artifacts: 100%"
          }
        },
        "4e5015a399804b769cea786a812d1f59": {
          "model_module": "@jupyter-widgets/controls",
          "model_name": "FloatProgressModel",
          "model_module_version": "1.5.0",
          "state": {
            "_dom_classes": [],
            "_model_module": "@jupyter-widgets/controls",
            "_model_module_version": "1.5.0",
            "_model_name": "FloatProgressModel",
            "_view_count": null,
            "_view_module": "@jupyter-widgets/controls",
            "_view_module_version": "1.5.0",
            "_view_name": "ProgressView",
            "bar_style": "success",
            "description": "",
            "description_tooltip": null,
            "layout": "IPY_MODEL_2e7af91dec014ee0892027578d98e389",
            "max": 5,
            "min": 0,
            "orientation": "horizontal",
            "style": "IPY_MODEL_584498e877ea4f7b807441791c7cadbc",
            "value": 5
          }
        },
        "5e3c79e82beb469998acd3abb4734dcf": {
          "model_module": "@jupyter-widgets/controls",
          "model_name": "HTMLModel",
          "model_module_version": "1.5.0",
          "state": {
            "_dom_classes": [],
            "_model_module": "@jupyter-widgets/controls",
            "_model_module_version": "1.5.0",
            "_model_name": "HTMLModel",
            "_view_count": null,
            "_view_module": "@jupyter-widgets/controls",
            "_view_module_version": "1.5.0",
            "_view_name": "HTMLView",
            "description": "",
            "description_tooltip": null,
            "layout": "IPY_MODEL_8cd985c71e2d4b36a773eeaa0fc65d21",
            "placeholder": "​",
            "style": "IPY_MODEL_785fcb92869749c7acd695dbf37803a0",
            "value": " 5/5 [00:00&lt;00:00,  7.69it/s]"
          }
        },
        "5787fcee25944db79fc4debf9489d818": {
          "model_module": "@jupyter-widgets/base",
          "model_name": "LayoutModel",
          "model_module_version": "1.2.0",
          "state": {
            "_model_module": "@jupyter-widgets/base",
            "_model_module_version": "1.2.0",
            "_model_name": "LayoutModel",
            "_view_count": null,
            "_view_module": "@jupyter-widgets/base",
            "_view_module_version": "1.2.0",
            "_view_name": "LayoutView",
            "align_content": null,
            "align_items": null,
            "align_self": null,
            "border": null,
            "bottom": null,
            "display": null,
            "flex": null,
            "flex_flow": null,
            "grid_area": null,
            "grid_auto_columns": null,
            "grid_auto_flow": null,
            "grid_auto_rows": null,
            "grid_column": null,
            "grid_gap": null,
            "grid_row": null,
            "grid_template_areas": null,
            "grid_template_columns": null,
            "grid_template_rows": null,
            "height": null,
            "justify_content": null,
            "justify_items": null,
            "left": null,
            "margin": null,
            "max_height": null,
            "max_width": null,
            "min_height": null,
            "min_width": null,
            "object_fit": null,
            "object_position": null,
            "order": null,
            "overflow": null,
            "overflow_x": null,
            "overflow_y": null,
            "padding": null,
            "right": null,
            "top": null,
            "visibility": null,
            "width": null
          }
        },
        "ae460992d39b46b09882eab38ecd1816": {
          "model_module": "@jupyter-widgets/base",
          "model_name": "LayoutModel",
          "model_module_version": "1.2.0",
          "state": {
            "_model_module": "@jupyter-widgets/base",
            "_model_module_version": "1.2.0",
            "_model_name": "LayoutModel",
            "_view_count": null,
            "_view_module": "@jupyter-widgets/base",
            "_view_module_version": "1.2.0",
            "_view_name": "LayoutView",
            "align_content": null,
            "align_items": null,
            "align_self": null,
            "border": null,
            "bottom": null,
            "display": null,
            "flex": null,
            "flex_flow": null,
            "grid_area": null,
            "grid_auto_columns": null,
            "grid_auto_flow": null,
            "grid_auto_rows": null,
            "grid_column": null,
            "grid_gap": null,
            "grid_row": null,
            "grid_template_areas": null,
            "grid_template_columns": null,
            "grid_template_rows": null,
            "height": null,
            "justify_content": null,
            "justify_items": null,
            "left": null,
            "margin": null,
            "max_height": null,
            "max_width": null,
            "min_height": null,
            "min_width": null,
            "object_fit": null,
            "object_position": null,
            "order": null,
            "overflow": null,
            "overflow_x": null,
            "overflow_y": null,
            "padding": null,
            "right": null,
            "top": null,
            "visibility": null,
            "width": null
          }
        },
        "d4466e5fa8f44751a22b4f8d4a48f6ac": {
          "model_module": "@jupyter-widgets/controls",
          "model_name": "DescriptionStyleModel",
          "model_module_version": "1.5.0",
          "state": {
            "_model_module": "@jupyter-widgets/controls",
            "_model_module_version": "1.5.0",
            "_model_name": "DescriptionStyleModel",
            "_view_count": null,
            "_view_module": "@jupyter-widgets/base",
            "_view_module_version": "1.2.0",
            "_view_name": "StyleView",
            "description_width": ""
          }
        },
        "2e7af91dec014ee0892027578d98e389": {
          "model_module": "@jupyter-widgets/base",
          "model_name": "LayoutModel",
          "model_module_version": "1.2.0",
          "state": {
            "_model_module": "@jupyter-widgets/base",
            "_model_module_version": "1.2.0",
            "_model_name": "LayoutModel",
            "_view_count": null,
            "_view_module": "@jupyter-widgets/base",
            "_view_module_version": "1.2.0",
            "_view_name": "LayoutView",
            "align_content": null,
            "align_items": null,
            "align_self": null,
            "border": null,
            "bottom": null,
            "display": null,
            "flex": null,
            "flex_flow": null,
            "grid_area": null,
            "grid_auto_columns": null,
            "grid_auto_flow": null,
            "grid_auto_rows": null,
            "grid_column": null,
            "grid_gap": null,
            "grid_row": null,
            "grid_template_areas": null,
            "grid_template_columns": null,
            "grid_template_rows": null,
            "height": null,
            "justify_content": null,
            "justify_items": null,
            "left": null,
            "margin": null,
            "max_height": null,
            "max_width": null,
            "min_height": null,
            "min_width": null,
            "object_fit": null,
            "object_position": null,
            "order": null,
            "overflow": null,
            "overflow_x": null,
            "overflow_y": null,
            "padding": null,
            "right": null,
            "top": null,
            "visibility": null,
            "width": null
          }
        },
        "584498e877ea4f7b807441791c7cadbc": {
          "model_module": "@jupyter-widgets/controls",
          "model_name": "ProgressStyleModel",
          "model_module_version": "1.5.0",
          "state": {
            "_model_module": "@jupyter-widgets/controls",
            "_model_module_version": "1.5.0",
            "_model_name": "ProgressStyleModel",
            "_view_count": null,
            "_view_module": "@jupyter-widgets/base",
            "_view_module_version": "1.2.0",
            "_view_name": "StyleView",
            "bar_color": null,
            "description_width": ""
          }
        },
        "8cd985c71e2d4b36a773eeaa0fc65d21": {
          "model_module": "@jupyter-widgets/base",
          "model_name": "LayoutModel",
          "model_module_version": "1.2.0",
          "state": {
            "_model_module": "@jupyter-widgets/base",
            "_model_module_version": "1.2.0",
            "_model_name": "LayoutModel",
            "_view_count": null,
            "_view_module": "@jupyter-widgets/base",
            "_view_module_version": "1.2.0",
            "_view_name": "LayoutView",
            "align_content": null,
            "align_items": null,
            "align_self": null,
            "border": null,
            "bottom": null,
            "display": null,
            "flex": null,
            "flex_flow": null,
            "grid_area": null,
            "grid_auto_columns": null,
            "grid_auto_flow": null,
            "grid_auto_rows": null,
            "grid_column": null,
            "grid_gap": null,
            "grid_row": null,
            "grid_template_areas": null,
            "grid_template_columns": null,
            "grid_template_rows": null,
            "height": null,
            "justify_content": null,
            "justify_items": null,
            "left": null,
            "margin": null,
            "max_height": null,
            "max_width": null,
            "min_height": null,
            "min_width": null,
            "object_fit": null,
            "object_position": null,
            "order": null,
            "overflow": null,
            "overflow_x": null,
            "overflow_y": null,
            "padding": null,
            "right": null,
            "top": null,
            "visibility": null,
            "width": null
          }
        },
        "785fcb92869749c7acd695dbf37803a0": {
          "model_module": "@jupyter-widgets/controls",
          "model_name": "DescriptionStyleModel",
          "model_module_version": "1.5.0",
          "state": {
            "_model_module": "@jupyter-widgets/controls",
            "_model_module_version": "1.5.0",
            "_model_name": "DescriptionStyleModel",
            "_view_count": null,
            "_view_module": "@jupyter-widgets/base",
            "_view_module_version": "1.2.0",
            "_view_name": "StyleView",
            "description_width": ""
          }
        }
      }
    }
  },
  "cells": [
    {
      "cell_type": "markdown",
      "source": [
        "#Instalacja i tunelowanie"
      ],
      "metadata": {
        "id": "NzG8KKPh_bbc"
      }
    },
    {
      "cell_type": "code",
      "execution_count": null,
      "metadata": {
        "id": "Wqqlkuhw0s9V"
      },
      "outputs": [],
      "source": [
        "!pip install mlflow"
      ]
    },
    {
      "cell_type": "code",
      "source": [
        "!mlflow ui --port 5000"
      ],
      "metadata": {
        "id": "C0TZxyqt0-6n"
      },
      "execution_count": null,
      "outputs": []
    },
    {
      "cell_type": "code",
      "source": [
        "pip install pyngrok"
      ],
      "metadata": {
        "id": "FNCACJZM1S3l"
      },
      "execution_count": null,
      "outputs": []
    },
    {
      "cell_type": "code",
      "source": [
        "get_ipython().system_raw(\"mlflow ui --port 5000 &\")"
      ],
      "metadata": {
        "id": "LWPLK3ST8724"
      },
      "execution_count": null,
      "outputs": []
    },
    {
      "cell_type": "code",
      "source": [
        "from pyngrok import ngrok"
      ],
      "metadata": {
        "id": "Di5lVrgH9Rv_"
      },
      "execution_count": null,
      "outputs": []
    },
    {
      "cell_type": "code",
      "source": [
        "NGROK_AUTH_TOKEN = \"\""
      ],
      "metadata": {
        "id": "2ALAFBUL9YXL"
      },
      "execution_count": null,
      "outputs": []
    },
    {
      "cell_type": "code",
      "source": [
        "ngrok.set_auth_token(NGROK_AUTH_TOKEN)"
      ],
      "metadata": {
        "colab": {
          "base_uri": "https://localhost:8080/"
        },
        "id": "aajdNQv79kCD",
        "outputId": "637939f7-0b96-455a-b084-133390831b4f"
      },
      "execution_count": null,
      "outputs": [
        {
          "output_type": "stream",
          "name": "stdout",
          "text": []
        }
      ]
    },
    {
      "cell_type": "code",
      "source": [
        "ngrok_tunnel = ngrok.connect(addr=\"5000\", proto=\"http\", bind_tls=True)\n",
        "print(\"MLflow Tracking UI:\", ngrok_tunnel.public_url)"
      ],
      "metadata": {
        "colab": {
          "base_uri": "https://localhost:8080/"
        },
        "id": "_5vaJkNQ9lmH",
        "outputId": "6e72f654-aba9-49e6-e6aa-f3b0146a83fd"
      },
      "execution_count": null,
      "outputs": [
        {
          "output_type": "stream",
          "name": "stdout",
          "text": [
            "MLflow Tracking UI: https://4fc2-35-204-237-43.ngrok-free.app\n"
          ]
        }
      ]
    },
    {
      "cell_type": "markdown",
      "source": [
        "# Eksperymenty"
      ],
      "metadata": {
        "id": "HRwqbAAr_gSY"
      }
    },
    {
      "cell_type": "code",
      "source": [
        "import mlflow\n",
        "\n",
        "mlflow.set_experiment(\"MLflow Experiment\")"
      ],
      "metadata": {
        "colab": {
          "base_uri": "https://localhost:8080/"
        },
        "id": "LXEILbcA_h7a",
        "outputId": "9525cbf1-2d7d-40a0-9f66-5d30ce131c17"
      },
      "execution_count": null,
      "outputs": [
        {
          "output_type": "stream",
          "name": "stderr",
          "text": [
            "2025/02/09 09:17:39 INFO mlflow.tracking.fluent: Experiment with name 'MLflow Experiment' does not exist. Creating a new experiment.\n"
          ]
        },
        {
          "output_type": "execute_result",
          "data": {
            "text/plain": [
              "<Experiment: artifact_location='file:///content/mlruns/609937902105650293', creation_time=1739092659287, experiment_id='609937902105650293', last_update_time=1739092659287, lifecycle_stage='active', name='MLflow Experiment', tags={}>"
            ]
          },
          "metadata": {},
          "execution_count": 10
        }
      ]
    },
    {
      "cell_type": "code",
      "source": [
        "with mlflow.start_run():\n",
        "  mlflow.log_param(\"max_depth\", 5)\n",
        "  mlflow.log_metric(\"accuracy\", 0.8)\n",
        "  mlflow.log_metric(\"f1-score\", 0.6)"
      ],
      "metadata": {
        "id": "MsrUmBI-AADp"
      },
      "execution_count": null,
      "outputs": []
    },
    {
      "cell_type": "code",
      "source": [
        "REMOTE_MLFLOW_TRACKING_URI = \"https://4fc2-35-204-237-43.ngrok-free.app/\"\n",
        "mlflow.set_tracking_uri(REMOTE_MLFLOW_TRACKING_URI)\n",
        "mlflow.set_experiment(\"Krzysiu\")"
      ],
      "metadata": {
        "id": "n4XPI3vhK52Y"
      },
      "execution_count": null,
      "outputs": []
    },
    {
      "cell_type": "code",
      "source": [
        "experiment_id = mlflow.get_experiment_by_name(\"Łukaszek_misiaczek\").experiment_id\n",
        "mlflow.delete_experiment(experiment_id)"
      ],
      "metadata": {
        "id": "ERAP3z4hK6lC"
      },
      "execution_count": null,
      "outputs": []
    },
    {
      "cell_type": "code",
      "source": [
        "with mlflow.start_run(run_name=\"decission tree 3\"):\n",
        "  metrics = {\"accuracy\": 0.5,\n",
        "             \"f1-score\": 0.6,\n",
        "             \"recall\": 0.2}\n",
        "\n",
        "  params = {\"max_depth\": 5,\n",
        "            \"min_sample_split\": 2}\n",
        "\n",
        "  mlflow.log_metrics(metrics)\n",
        "  mlflow.log_params(params)"
      ],
      "metadata": {
        "colab": {
          "base_uri": "https://localhost:8080/"
        },
        "id": "EGH7EeKdLmoI",
        "outputId": "2be20be3-31f8-4c05-e542-eff3cfa3ec7c"
      },
      "execution_count": null,
      "outputs": [
        {
          "output_type": "stream",
          "name": "stdout",
          "text": [
            "🏃 View run decission tree 3 at: https://8fbf-35-204-237-43.ngrok-free.app/#/experiments/609937902105650293/runs/c8d1091cf55e4ba68842ec30cbaf4b86\n",
            "🧪 View experiment at: https://8fbf-35-204-237-43.ngrok-free.app/#/experiments/609937902105650293\n"
          ]
        }
      ]
    },
    {
      "cell_type": "markdown",
      "source": [
        "# Model"
      ],
      "metadata": {
        "id": "J1qQt-NmPrgH"
      }
    },
    {
      "cell_type": "code",
      "source": [
        "from sklearn.tree import DecisionTreeClassifier\n",
        "from sklearn.datasets import load_iris\n",
        "from sklearn.model_selection import train_test_split"
      ],
      "metadata": {
        "id": "ywu_ng6kPq8c"
      },
      "execution_count": null,
      "outputs": []
    },
    {
      "cell_type": "code",
      "source": [
        "X, y = load_iris(return_X_y=True)\n",
        "X_train, X_test, y_train, y_test = train_test_split(X, y, test_size=0.2)"
      ],
      "metadata": {
        "id": "FOpf6L0eP1wX"
      },
      "execution_count": null,
      "outputs": []
    },
    {
      "cell_type": "code",
      "source": [
        "for max_depth in [1, 2, 3, 4, 5]:\n",
        "  with mlflow.start_run(run_name=f\"decission tree {max_depth}\"):\n",
        "\n",
        "    model = DecisionTreeClassifier(max_depth=max_depth)\n",
        "    model.fit(X_train, y_train)\n",
        "    mlflow.log_param(\"max_depth\", max_depth)\n",
        "    mlflow.log_metric(\"accuracy\", model.score(X_test, y_test))"
      ],
      "metadata": {
        "colab": {
          "base_uri": "https://localhost:8080/"
        },
        "id": "sWliJjYEP60e",
        "outputId": "5e82cda5-5ece-41fd-a471-2f0796c12199"
      },
      "execution_count": null,
      "outputs": [
        {
          "output_type": "stream",
          "name": "stdout",
          "text": [
            "🏃 View run decission tree 1 at: https://8fbf-35-204-237-43.ngrok-free.app/#/experiments/609937902105650293/runs/2cf321bff5b74e9b89d72ffe1a7ec3f4\n",
            "🧪 View experiment at: https://8fbf-35-204-237-43.ngrok-free.app/#/experiments/609937902105650293\n",
            "🏃 View run decission tree 2 at: https://8fbf-35-204-237-43.ngrok-free.app/#/experiments/609937902105650293/runs/8fb7fabfb39f432595f3b3ce168ce182\n",
            "🧪 View experiment at: https://8fbf-35-204-237-43.ngrok-free.app/#/experiments/609937902105650293\n",
            "🏃 View run decission tree 3 at: https://8fbf-35-204-237-43.ngrok-free.app/#/experiments/609937902105650293/runs/6a4850aed3cc41a590f81f3bf3c8f281\n",
            "🧪 View experiment at: https://8fbf-35-204-237-43.ngrok-free.app/#/experiments/609937902105650293\n",
            "🏃 View run decission tree 4 at: https://8fbf-35-204-237-43.ngrok-free.app/#/experiments/609937902105650293/runs/2dc3620db43b4fb3bface5b417eb837d\n",
            "🧪 View experiment at: https://8fbf-35-204-237-43.ngrok-free.app/#/experiments/609937902105650293\n",
            "🏃 View run decission tree 5 at: https://8fbf-35-204-237-43.ngrok-free.app/#/experiments/609937902105650293/runs/da2386aa4de44c86b43c0ba17369e52b\n",
            "🧪 View experiment at: https://8fbf-35-204-237-43.ngrok-free.app/#/experiments/609937902105650293\n"
          ]
        }
      ]
    },
    {
      "cell_type": "code",
      "source": [
        "runs = mlflow.search_runs(experiment_ids=[\"609937902105650293\"],\n",
        "                         filter_string = \"metrics.accuracy > 0.8\",\n",
        "                          order_by=[\"params.max_depth DESC\"])"
      ],
      "metadata": {
        "id": "6VM8qQvLQD5l"
      },
      "execution_count": null,
      "outputs": []
    },
    {
      "cell_type": "markdown",
      "source": [
        "## Save data to csv"
      ],
      "metadata": {
        "id": "zQf09NYeUUbk"
      }
    },
    {
      "cell_type": "code",
      "source": [
        "import pandas as pd\n",
        "data = pd.DataFrame(X)"
      ],
      "metadata": {
        "id": "V4X-fm5ETOBB"
      },
      "execution_count": null,
      "outputs": []
    },
    {
      "cell_type": "code",
      "source": [
        "data.to_csv(\"data.csv\", index=False)"
      ],
      "metadata": {
        "id": "LZ65zJz8UjBs"
      },
      "execution_count": null,
      "outputs": []
    },
    {
      "cell_type": "code",
      "source": [
        "mlflow.set_experiment('Exp2')\n",
        "\n",
        "for max_depth in [1, 2, 3, 4, 5]:\n",
        "  with mlflow.start_run(run_name=f\"decission tree {max_depth}\"):\n",
        "\n",
        "    model = DecisionTreeClassifier(max_depth=max_depth)\n",
        "    model.fit(X_train, y_train)\n",
        "    mlflow.log_param(\"max_depth\", max_depth)\n",
        "    mlflow.log_metric(\"accuracy\", model.score(X_test, y_test))\n",
        "    mlflow.log_artifact(\"data.csv\")"
      ],
      "metadata": {
        "colab": {
          "base_uri": "https://localhost:8080/"
        },
        "id": "fP8m9nZlTd1t",
        "outputId": "ab7d1a0b-a359-450d-ffc9-ebdc62c28bc4"
      },
      "execution_count": null,
      "outputs": [
        {
          "output_type": "stream",
          "name": "stderr",
          "text": [
            "2025/02/09 10:49:00 INFO mlflow.tracking.fluent: Experiment with name 'Exp2' does not exist. Creating a new experiment.\n"
          ]
        },
        {
          "output_type": "stream",
          "name": "stdout",
          "text": [
            "🏃 View run decission tree 1 at: https://8fbf-35-204-237-43.ngrok-free.app/#/experiments/471851470409106224/runs/a27282da8f494dc3834bc0204776df31\n",
            "🧪 View experiment at: https://8fbf-35-204-237-43.ngrok-free.app/#/experiments/471851470409106224\n",
            "🏃 View run decission tree 2 at: https://8fbf-35-204-237-43.ngrok-free.app/#/experiments/471851470409106224/runs/158f831f7c60467a92264130a7327afe\n",
            "🧪 View experiment at: https://8fbf-35-204-237-43.ngrok-free.app/#/experiments/471851470409106224\n",
            "🏃 View run decission tree 3 at: https://8fbf-35-204-237-43.ngrok-free.app/#/experiments/471851470409106224/runs/5090ce512fe74bcbba840a008bad4f3a\n",
            "🧪 View experiment at: https://8fbf-35-204-237-43.ngrok-free.app/#/experiments/471851470409106224\n",
            "🏃 View run decission tree 4 at: https://8fbf-35-204-237-43.ngrok-free.app/#/experiments/471851470409106224/runs/23f299c2ceb043a9ad8ec2525b18fb97\n",
            "🧪 View experiment at: https://8fbf-35-204-237-43.ngrok-free.app/#/experiments/471851470409106224\n",
            "🏃 View run decission tree 5 at: https://8fbf-35-204-237-43.ngrok-free.app/#/experiments/471851470409106224/runs/eb0c75b29e79403c82ab6910dff84946\n",
            "🧪 View experiment at: https://8fbf-35-204-237-43.ngrok-free.app/#/experiments/471851470409106224\n"
          ]
        }
      ]
    },
    {
      "cell_type": "code",
      "source": [
        "mlflow.set_experiment('Exp3')\n",
        "\n",
        "with mlflow.start_run(run_name=f\"load data\"):\n",
        "  mlflow.log_artifact(\"data.csv\")\n",
        "\n",
        "for max_depth in [1, 2, 3, 4, 5]:\n",
        "  with mlflow.start_run(run_name=f\"decission tree {max_depth}\"):\n",
        "\n",
        "    model = DecisionTreeClassifier(max_depth=max_depth)\n",
        "    model.fit(X_train, y_train)\n",
        "    mlflow.log_param(\"max_depth\", max_depth)\n",
        "    mlflow.log_metric(\"accuracy\", model.score(X_test, y_test))"
      ],
      "metadata": {
        "colab": {
          "base_uri": "https://localhost:8080/"
        },
        "id": "BmAQLVNgVjjY",
        "outputId": "0cea51db-74b8-4f27-e5e9-b7ef0f4c65a2"
      },
      "execution_count": null,
      "outputs": [
        {
          "output_type": "stream",
          "name": "stderr",
          "text": [
            "2025/02/09 10:52:19 INFO mlflow.tracking.fluent: Experiment with name 'Exp3' does not exist. Creating a new experiment.\n"
          ]
        },
        {
          "output_type": "stream",
          "name": "stdout",
          "text": [
            "🏃 View run load data at: https://8fbf-35-204-237-43.ngrok-free.app/#/experiments/807321254900798019/runs/2baa1a5a5cb64b1c91ffd17be4746ac3\n",
            "🧪 View experiment at: https://8fbf-35-204-237-43.ngrok-free.app/#/experiments/807321254900798019\n",
            "🏃 View run decission tree 1 at: https://8fbf-35-204-237-43.ngrok-free.app/#/experiments/807321254900798019/runs/de5776a262c14f1bb10eb6a6210acd91\n",
            "🧪 View experiment at: https://8fbf-35-204-237-43.ngrok-free.app/#/experiments/807321254900798019\n",
            "🏃 View run decission tree 2 at: https://8fbf-35-204-237-43.ngrok-free.app/#/experiments/807321254900798019/runs/77c0d01245c94756863e3767befec935\n",
            "🧪 View experiment at: https://8fbf-35-204-237-43.ngrok-free.app/#/experiments/807321254900798019\n",
            "🏃 View run decission tree 3 at: https://8fbf-35-204-237-43.ngrok-free.app/#/experiments/807321254900798019/runs/53acaed8ac78455d9cbd9b7828b8495c\n",
            "🧪 View experiment at: https://8fbf-35-204-237-43.ngrok-free.app/#/experiments/807321254900798019\n",
            "🏃 View run decission tree 4 at: https://8fbf-35-204-237-43.ngrok-free.app/#/experiments/807321254900798019/runs/991543de62c14e18930ad77cc402fd2b\n",
            "🧪 View experiment at: https://8fbf-35-204-237-43.ngrok-free.app/#/experiments/807321254900798019\n",
            "🏃 View run decission tree 5 at: https://8fbf-35-204-237-43.ngrok-free.app/#/experiments/807321254900798019/runs/a4fb325942aa486fa2440326ad5b9a76\n",
            "🧪 View experiment at: https://8fbf-35-204-237-43.ngrok-free.app/#/experiments/807321254900798019\n"
          ]
        }
      ]
    },
    {
      "cell_type": "code",
      "source": [
        "mlflow.set_experiment('Exp5')\n",
        "\n",
        "with mlflow.start_run(run_name=f\"load data\"):\n",
        "  mlflow.log_artifact(\"data.csv\")\n",
        "\n",
        "for max_depth in [1, 2, 3, 4, 5]:\n",
        "  with mlflow.start_run(run_name=f\"decission tree {max_depth}\"):\n",
        "\n",
        "    model = DecisionTreeClassifier(max_depth=max_depth)\n",
        "    model.fit(X_train, y_train)\n",
        "    mlflow.log_param(\"max_depth\", max_depth)\n",
        "    mlflow.log_metric(\"accuracy\", model.score(X_test, y_test))\n",
        "    mlflow.sklearn.log_model(model, \"model\", input_example=X[0:2])\n",
        "    mlflow.set_tag(\"author\", \"Krzysiu\")"
      ],
      "metadata": {
        "colab": {
          "base_uri": "https://localhost:8080/"
        },
        "id": "6PaOd1WQWJST",
        "outputId": "9d7df660-34b4-463d-c2e1-88c027614780"
      },
      "execution_count": null,
      "outputs": [
        {
          "output_type": "stream",
          "name": "stdout",
          "text": [
            "🏃 View run load data at: https://4fc2-35-204-237-43.ngrok-free.app/#/experiments/472695168415867053/runs/86d60fb7dd184a3bb0fa1cacaca268a4\n",
            "🧪 View experiment at: https://4fc2-35-204-237-43.ngrok-free.app/#/experiments/472695168415867053\n",
            "🏃 View run decission tree 1 at: https://4fc2-35-204-237-43.ngrok-free.app/#/experiments/472695168415867053/runs/e15b6c7d10f24b21b7aef0f7baa0d158\n",
            "🧪 View experiment at: https://4fc2-35-204-237-43.ngrok-free.app/#/experiments/472695168415867053\n",
            "🏃 View run decission tree 2 at: https://4fc2-35-204-237-43.ngrok-free.app/#/experiments/472695168415867053/runs/2d42c6bd1ca4404d8abee8a0efb853fc\n",
            "🧪 View experiment at: https://4fc2-35-204-237-43.ngrok-free.app/#/experiments/472695168415867053\n",
            "🏃 View run decission tree 3 at: https://4fc2-35-204-237-43.ngrok-free.app/#/experiments/472695168415867053/runs/ab7c8fc0a3244fc980c5d4d2e9e8baf7\n",
            "🧪 View experiment at: https://4fc2-35-204-237-43.ngrok-free.app/#/experiments/472695168415867053\n",
            "🏃 View run decission tree 4 at: https://4fc2-35-204-237-43.ngrok-free.app/#/experiments/472695168415867053/runs/fb77d6527c4f4da98063dcb3b1c0ddbd\n",
            "🧪 View experiment at: https://4fc2-35-204-237-43.ngrok-free.app/#/experiments/472695168415867053\n",
            "🏃 View run decission tree 5 at: https://4fc2-35-204-237-43.ngrok-free.app/#/experiments/472695168415867053/runs/5d2ebafdb9584e5a8aac6acea2155746\n",
            "🧪 View experiment at: https://4fc2-35-204-237-43.ngrok-free.app/#/experiments/472695168415867053\n"
          ]
        }
      ]
    },
    {
      "cell_type": "code",
      "source": [
        "import mlflow\n",
        "logged_model = 'runs:/9ca10f989e504ed2bcf4daa634c7ffde/model'\n",
        "\n",
        "# Load model as a PyFuncModel.\n",
        "loaded_model = mlflow.pyfunc.load_model(logged_model)\n",
        "\n",
        "# Predict on a Pandas DataFrame.\n",
        "import pandas as pd\n",
        "loaded_model.predict(pd.DataFrame(data))"
      ],
      "metadata": {
        "colab": {
          "base_uri": "https://localhost:8080/",
          "height": 170,
          "referenced_widgets": [
            "528f1a13e05a4c729e41fb3903484b07",
            "a61383fd7541482297cf06aabb97701b",
            "4e5015a399804b769cea786a812d1f59",
            "5e3c79e82beb469998acd3abb4734dcf",
            "5787fcee25944db79fc4debf9489d818",
            "ae460992d39b46b09882eab38ecd1816",
            "d4466e5fa8f44751a22b4f8d4a48f6ac",
            "2e7af91dec014ee0892027578d98e389",
            "584498e877ea4f7b807441791c7cadbc",
            "8cd985c71e2d4b36a773eeaa0fc65d21",
            "785fcb92869749c7acd695dbf37803a0"
          ]
        },
        "id": "QYC1eSpFXcsy",
        "outputId": "cf4c9b15-4738-4bb9-df4a-a5198e81c57c"
      },
      "execution_count": null,
      "outputs": [
        {
          "output_type": "display_data",
          "data": {
            "text/plain": [
              "Downloading artifacts:   0%|          | 0/5 [00:00<?, ?it/s]"
            ],
            "application/vnd.jupyter.widget-view+json": {
              "version_major": 2,
              "version_minor": 0,
              "model_id": "528f1a13e05a4c729e41fb3903484b07"
            }
          },
          "metadata": {}
        },
        {
          "output_type": "execute_result",
          "data": {
            "text/plain": [
              "array([0, 0, 0, 0, 0, 0, 0, 0, 0, 0, 0, 0, 0, 0, 0, 0, 0, 0, 0, 0, 0, 0,\n",
              "       0, 0, 0, 0, 0, 0, 0, 0, 0, 0, 0, 0, 0, 0, 0, 0, 0, 0, 0, 0, 0, 0,\n",
              "       0, 0, 0, 0, 0, 0, 1, 1, 1, 1, 1, 1, 1, 1, 1, 1, 1, 1, 1, 1, 1, 1,\n",
              "       1, 1, 1, 1, 2, 1, 1, 1, 1, 1, 1, 1, 1, 1, 1, 1, 1, 1, 1, 1, 1, 1,\n",
              "       1, 1, 1, 1, 1, 1, 1, 1, 1, 1, 1, 1, 2, 2, 2, 2, 2, 2, 1, 2, 2, 2,\n",
              "       2, 2, 2, 2, 2, 2, 2, 2, 2, 1, 2, 2, 2, 2, 2, 2, 2, 2, 2, 1, 2, 2,\n",
              "       2, 1, 1, 2, 2, 2, 2, 2, 2, 2, 2, 2, 2, 2, 2, 2, 2, 2])"
            ]
          },
          "metadata": {},
          "execution_count": 46
        }
      ]
    },
    {
      "cell_type": "code",
      "source": [
        "mlflow.get_experiment('472695168415867053').name"
      ],
      "metadata": {
        "colab": {
          "base_uri": "https://localhost:8080/",
          "height": 36
        },
        "id": "w5BLBOUtbo-b",
        "outputId": "14df02e0-e9c6-4db9-ba6a-f4429f2b6eea"
      },
      "execution_count": null,
      "outputs": [
        {
          "output_type": "execute_result",
          "data": {
            "text/plain": [
              "'Exp5'"
            ],
            "application/vnd.google.colaboratory.intrinsic+json": {
              "type": "string"
            }
          },
          "metadata": {},
          "execution_count": 58
        }
      ]
    },
    {
      "cell_type": "code",
      "source": [
        "mlflow.set_experiment('Krzysiu_autolog')"
      ],
      "metadata": {
        "colab": {
          "base_uri": "https://localhost:8080/"
        },
        "id": "SVphBucTpaQH",
        "outputId": "c77fc5b4-e2bc-4ac2-d5fd-82d501590a16"
      },
      "execution_count": null,
      "outputs": [
        {
          "output_type": "stream",
          "name": "stderr",
          "text": [
            "2025/02/09 12:18:53 INFO mlflow.tracking.fluent: Experiment with name 'Krzysiu_autolog' does not exist. Creating a new experiment.\n"
          ]
        },
        {
          "output_type": "execute_result",
          "data": {
            "text/plain": [
              "<Experiment: artifact_location='mlflow-artifacts:/619786673704144293', creation_time=1739103533725, experiment_id='619786673704144293', last_update_time=1739103533725, lifecycle_stage='active', name='Krzysiu_autolog', tags={}>"
            ]
          },
          "metadata": {},
          "execution_count": 63
        }
      ]
    },
    {
      "cell_type": "code",
      "source": [
        "mlflow.sklearn.autolog()\n",
        "\n",
        "for max_depth in [1,2,3,4,5]:\n",
        "  model = DecisionTreeClassifier(max_depth=max_depth)\n",
        "  model.fit(X_train, y_train)"
      ],
      "metadata": {
        "colab": {
          "base_uri": "https://localhost:8080/"
        },
        "id": "4YVQboegpfeq",
        "outputId": "7a0d5d92-9594-446a-e674-7566fb738a74"
      },
      "execution_count": null,
      "outputs": [
        {
          "output_type": "stream",
          "name": "stderr",
          "text": [
            "2025/02/09 12:20:27 INFO mlflow.utils.autologging_utils: Created MLflow autologging run with ID '391a755f08af494e9e3174133fc16bf1', which will track hyperparameters, performance metrics, model artifacts, and lineage information for the current sklearn workflow\n",
            "/usr/local/lib/python3.11/dist-packages/sklearn/metrics/_classification.py:1565: UndefinedMetricWarning: Precision is ill-defined and being set to 0.0 in labels with no predicted samples. Use `zero_division` parameter to control this behavior.\n",
            "  _warn_prf(average, modifier, f\"{metric.capitalize()} is\", len(result))\n"
          ]
        },
        {
          "output_type": "stream",
          "name": "stdout",
          "text": [
            "🏃 View run dazzling-shrew-346 at: https://4fc2-35-204-237-43.ngrok-free.app/#/experiments/619786673704144293/runs/391a755f08af494e9e3174133fc16bf1\n",
            "🧪 View experiment at: https://4fc2-35-204-237-43.ngrok-free.app/#/experiments/619786673704144293\n"
          ]
        },
        {
          "output_type": "stream",
          "name": "stderr",
          "text": [
            "2025/02/09 12:20:36 INFO mlflow.utils.autologging_utils: Created MLflow autologging run with ID 'e53060f01438434ea21bb4ad22ccdb08', which will track hyperparameters, performance metrics, model artifacts, and lineage information for the current sklearn workflow\n"
          ]
        },
        {
          "output_type": "stream",
          "name": "stdout",
          "text": [
            "🏃 View run redolent-boar-964 at: https://4fc2-35-204-237-43.ngrok-free.app/#/experiments/619786673704144293/runs/e53060f01438434ea21bb4ad22ccdb08\n",
            "🧪 View experiment at: https://4fc2-35-204-237-43.ngrok-free.app/#/experiments/619786673704144293\n"
          ]
        },
        {
          "output_type": "stream",
          "name": "stderr",
          "text": [
            "2025/02/09 12:20:46 INFO mlflow.utils.autologging_utils: Created MLflow autologging run with ID '926a7d06224e43d58b5cdb16a5334a74', which will track hyperparameters, performance metrics, model artifacts, and lineage information for the current sklearn workflow\n"
          ]
        },
        {
          "output_type": "stream",
          "name": "stdout",
          "text": [
            "🏃 View run carefree-bear-98 at: https://4fc2-35-204-237-43.ngrok-free.app/#/experiments/619786673704144293/runs/926a7d06224e43d58b5cdb16a5334a74\n",
            "🧪 View experiment at: https://4fc2-35-204-237-43.ngrok-free.app/#/experiments/619786673704144293\n"
          ]
        },
        {
          "output_type": "stream",
          "name": "stderr",
          "text": [
            "2025/02/09 12:20:56 INFO mlflow.utils.autologging_utils: Created MLflow autologging run with ID '88351873b7b54a61a2ba640a47220948', which will track hyperparameters, performance metrics, model artifacts, and lineage information for the current sklearn workflow\n"
          ]
        },
        {
          "output_type": "stream",
          "name": "stdout",
          "text": [
            "🏃 View run likeable-crow-532 at: https://4fc2-35-204-237-43.ngrok-free.app/#/experiments/619786673704144293/runs/88351873b7b54a61a2ba640a47220948\n",
            "🧪 View experiment at: https://4fc2-35-204-237-43.ngrok-free.app/#/experiments/619786673704144293\n"
          ]
        },
        {
          "output_type": "stream",
          "name": "stderr",
          "text": [
            "2025/02/09 12:21:05 INFO mlflow.utils.autologging_utils: Created MLflow autologging run with ID '657f250164e1456295ead5d53b8d28d8', which will track hyperparameters, performance metrics, model artifacts, and lineage information for the current sklearn workflow\n"
          ]
        },
        {
          "output_type": "stream",
          "name": "stdout",
          "text": [
            "🏃 View run trusting-goose-265 at: https://4fc2-35-204-237-43.ngrok-free.app/#/experiments/619786673704144293/runs/657f250164e1456295ead5d53b8d28d8\n",
            "🧪 View experiment at: https://4fc2-35-204-237-43.ngrok-free.app/#/experiments/619786673704144293\n"
          ]
        }
      ]
    },
    {
      "cell_type": "code",
      "source": [
        "import keras\n",
        "\n",
        "mlflow.set_experiment('Krzysiu_keras')\n",
        "mlflow.keras.autolog()\n",
        "\n",
        "for i in range(5):\n",
        "  with mlflow.start_run(run_name=f\"model {i}\"):\n",
        "    model = keras.models.Sequential()\n",
        "    model.add(keras.layers.Dense(10, input_dim=4, activation='relu'))\n",
        "    model.add(keras.layers.Dense(3, activation='softmax'))\n",
        "    model.compile(optimizer='adam', loss='sparse_categorical_crossentropy', metrics=['accuracy'])\n",
        "    model.fit(X_train, y_train, epochs=10, validation_split=0.2)\n",
        "    mlflow.keras.log_model(model, \"model\")"
      ],
      "metadata": {
        "colab": {
          "base_uri": "https://localhost:8080/",
          "height": 1000
        },
        "id": "vCmsqRyZxzz3",
        "outputId": "ecb76d1b-24d4-43ea-d8fe-1eea99834f07"
      },
      "execution_count": null,
      "outputs": [
        {
          "output_type": "stream",
          "name": "stderr",
          "text": [
            "2025/02/09 12:56:57 INFO mlflow.tracking.fluent: Experiment with name 'Krzysiu_keras' does not exist. Creating a new experiment.\n",
            "/usr/local/lib/python3.11/dist-packages/keras/src/layers/core/dense.py:87: UserWarning: Do not pass an `input_shape`/`input_dim` argument to a layer. When using Sequential models, prefer using an `Input(shape)` object as the first layer in the model instead.\n",
            "  super().__init__(activity_regularizer=activity_regularizer, **kwargs)\n"
          ]
        },
        {
          "output_type": "display_data",
          "data": {
            "text/plain": [],
            "text/html": [
              "<pre style=\"white-space:pre;overflow-x:auto;line-height:normal;font-family:Menlo,'DejaVu Sans Mono',consolas,'Courier New',monospace\"></pre>\n"
            ]
          },
          "metadata": {}
        },
        {
          "output_type": "stream",
          "name": "stdout",
          "text": [
            "Epoch 1/10\n",
            "\u001b[1m3/3\u001b[0m \u001b[32m━━━━━━━━━━━━━━━━━━━━\u001b[0m\u001b[37m\u001b[0m \u001b[1m1s\u001b[0m 130ms/step - accuracy: 0.3047 - loss: 5.3105 - val_accuracy: 0.1667 - val_loss: 6.4862\n",
            "Epoch 2/10\n",
            "\u001b[1m3/3\u001b[0m \u001b[32m━━━━━━━━━━━━━━━━━━━━\u001b[0m\u001b[37m\u001b[0m \u001b[1m0s\u001b[0m 35ms/step - accuracy: 0.3438 - loss: 4.7960 - val_accuracy: 0.1667 - val_loss: 6.2322\n",
            "Epoch 3/10\n",
            "\u001b[1m3/3\u001b[0m \u001b[32m━━━━━━━━━━━━━━━━━━━━\u001b[0m\u001b[37m\u001b[0m \u001b[1m0s\u001b[0m 37ms/step - accuracy: 0.3242 - loss: 4.7380 - val_accuracy: 0.1667 - val_loss: 5.9763\n",
            "Epoch 4/10\n",
            "\u001b[1m3/3\u001b[0m \u001b[32m━━━━━━━━━━━━━━━━━━━━\u001b[0m\u001b[37m\u001b[0m \u001b[1m0s\u001b[0m 37ms/step - accuracy: 0.2891 - loss: 4.8059 - val_accuracy: 0.1667 - val_loss: 5.7191\n",
            "Epoch 5/10\n",
            "\u001b[1m3/3\u001b[0m \u001b[32m━━━━━━━━━━━━━━━━━━━━\u001b[0m\u001b[37m\u001b[0m \u001b[1m0s\u001b[0m 55ms/step - accuracy: 0.3164 - loss: 4.3871 - val_accuracy: 0.1667 - val_loss: 5.4636\n",
            "Epoch 6/10\n",
            "\u001b[1m3/3\u001b[0m \u001b[32m━━━━━━━━━━━━━━━━━━━━\u001b[0m\u001b[37m\u001b[0m \u001b[1m0s\u001b[0m 39ms/step - accuracy: 0.3555 - loss: 3.8594 - val_accuracy: 0.1667 - val_loss: 5.2102\n",
            "Epoch 7/10\n",
            "\u001b[1m3/3\u001b[0m \u001b[32m━━━━━━━━━━━━━━━━━━━━\u001b[0m\u001b[37m\u001b[0m \u001b[1m0s\u001b[0m 56ms/step - accuracy: 0.3125 - loss: 4.0927 - val_accuracy: 0.1667 - val_loss: 4.9553\n",
            "Epoch 8/10\n",
            "\u001b[1m3/3\u001b[0m \u001b[32m━━━━━━━━━━━━━━━━━━━━\u001b[0m\u001b[37m\u001b[0m \u001b[1m0s\u001b[0m 37ms/step - accuracy: 0.3125 - loss: 3.8258 - val_accuracy: 0.1667 - val_loss: 4.7012\n",
            "Epoch 9/10\n",
            "\u001b[1m3/3\u001b[0m \u001b[32m━━━━━━━━━━━━━━━━━━━━\u001b[0m\u001b[37m\u001b[0m \u001b[1m0s\u001b[0m 35ms/step - accuracy: 0.3516 - loss: 3.4939 - val_accuracy: 0.1667 - val_loss: 4.4497\n",
            "Epoch 10/10\n",
            "\u001b[1m3/3\u001b[0m \u001b[32m━━━━━━━━━━━━━━━━━━━━\u001b[0m\u001b[37m\u001b[0m \u001b[1m0s\u001b[0m 38ms/step - accuracy: 0.3398 - loss: 3.3234 - val_accuracy: 0.1667 - val_loss: 4.1990\n"
          ]
        },
        {
          "output_type": "stream",
          "name": "stderr",
          "text": [
            "2025/02/09 12:57:16 WARNING mlflow.keras.save: You are saving a Keras model without specifying model signature.\n",
            "\u001b[31m2025/02/09 12:57:26 WARNING mlflow.models.model: Model logged without a signature and input example. Please set `input_example` parameter when logging the model to auto infer the model signature.\u001b[0m\n"
          ]
        },
        {
          "output_type": "stream",
          "name": "stdout",
          "text": [
            "🏃 View run model 0 at: https://4fc2-35-204-237-43.ngrok-free.app/#/experiments/907868459828082659/runs/13fc75c3a272441b949f9b438c87084e\n",
            "🧪 View experiment at: https://4fc2-35-204-237-43.ngrok-free.app/#/experiments/907868459828082659\n"
          ]
        },
        {
          "output_type": "display_data",
          "data": {
            "text/plain": [],
            "text/html": [
              "<pre style=\"white-space:pre;overflow-x:auto;line-height:normal;font-family:Menlo,'DejaVu Sans Mono',consolas,'Courier New',monospace\"></pre>\n"
            ]
          },
          "metadata": {}
        },
        {
          "output_type": "stream",
          "name": "stdout",
          "text": [
            "Epoch 1/10\n",
            "\u001b[1m3/3\u001b[0m \u001b[32m━━━━━━━━━━━━━━━━━━━━\u001b[0m\u001b[37m\u001b[0m \u001b[1m1s\u001b[0m 128ms/step - accuracy: 0.2930 - loss: 2.6123 - val_accuracy: 0.1667 - val_loss: 3.1801\n",
            "Epoch 2/10\n",
            "\u001b[1m3/3\u001b[0m \u001b[32m━━━━━━━━━━━━━━━━━━━━\u001b[0m\u001b[37m\u001b[0m \u001b[1m0s\u001b[0m 40ms/step - accuracy: 0.3242 - loss: 2.4768 - val_accuracy: 0.1667 - val_loss: 3.1031\n",
            "Epoch 3/10\n",
            "\u001b[1m3/3\u001b[0m \u001b[32m━━━━━━━━━━━━━━━━━━━━\u001b[0m\u001b[37m\u001b[0m \u001b[1m0s\u001b[0m 41ms/step - accuracy: 0.3164 - loss: 2.3829 - val_accuracy: 0.1667 - val_loss: 3.0272\n",
            "Epoch 4/10\n",
            "\u001b[1m3/3\u001b[0m \u001b[32m━━━━━━━━━━━━━━━━━━━━\u001b[0m\u001b[37m\u001b[0m \u001b[1m0s\u001b[0m 39ms/step - accuracy: 0.3359 - loss: 2.3168 - val_accuracy: 0.1667 - val_loss: 2.9530\n",
            "Epoch 5/10\n",
            "\u001b[1m3/3\u001b[0m \u001b[32m━━━━━━━━━━━━━━━━━━━━\u001b[0m\u001b[37m\u001b[0m \u001b[1m0s\u001b[0m 47ms/step - accuracy: 0.3594 - loss: 2.1857 - val_accuracy: 0.1667 - val_loss: 2.8813\n",
            "Epoch 6/10\n",
            "\u001b[1m3/3\u001b[0m \u001b[32m━━━━━━━━━━━━━━━━━━━━\u001b[0m\u001b[37m\u001b[0m \u001b[1m0s\u001b[0m 57ms/step - accuracy: 0.3008 - loss: 2.2946 - val_accuracy: 0.1667 - val_loss: 2.8110\n",
            "Epoch 7/10\n",
            "\u001b[1m3/3\u001b[0m \u001b[32m━━━━━━━━━━━━━━━━━━━━\u001b[0m\u001b[37m\u001b[0m \u001b[1m0s\u001b[0m 38ms/step - accuracy: 0.2891 - loss: 2.2646 - val_accuracy: 0.1667 - val_loss: 2.7425\n",
            "Epoch 8/10\n",
            "\u001b[1m3/3\u001b[0m \u001b[32m━━━━━━━━━━━━━━━━━━━━\u001b[0m\u001b[37m\u001b[0m \u001b[1m0s\u001b[0m 55ms/step - accuracy: 0.3047 - loss: 2.2304 - val_accuracy: 0.1667 - val_loss: 2.6760\n",
            "Epoch 9/10\n",
            "\u001b[1m3/3\u001b[0m \u001b[32m━━━━━━━━━━━━━━━━━━━━\u001b[0m\u001b[37m\u001b[0m \u001b[1m0s\u001b[0m 59ms/step - accuracy: 0.3438 - loss: 2.0427 - val_accuracy: 0.1667 - val_loss: 2.6125\n",
            "Epoch 10/10\n",
            "\u001b[1m3/3\u001b[0m \u001b[32m━━━━━━━━━━━━━━━━━━━━\u001b[0m\u001b[37m\u001b[0m \u001b[1m0s\u001b[0m 58ms/step - accuracy: 0.3047 - loss: 2.1102 - val_accuracy: 0.1667 - val_loss: 2.5501\n"
          ]
        },
        {
          "output_type": "stream",
          "name": "stderr",
          "text": [
            "2025/02/09 12:57:47 WARNING mlflow.keras.save: You are saving a Keras model without specifying model signature.\n",
            "\u001b[31m2025/02/09 12:57:58 WARNING mlflow.models.model: Model logged without a signature and input example. Please set `input_example` parameter when logging the model to auto infer the model signature.\u001b[0m\n"
          ]
        },
        {
          "output_type": "stream",
          "name": "stdout",
          "text": [
            "🏃 View run model 1 at: https://4fc2-35-204-237-43.ngrok-free.app/#/experiments/907868459828082659/runs/7095bd9948be426bbb7fc1571aea6eec\n",
            "🧪 View experiment at: https://4fc2-35-204-237-43.ngrok-free.app/#/experiments/907868459828082659\n"
          ]
        },
        {
          "output_type": "display_data",
          "data": {
            "text/plain": [],
            "text/html": [
              "<pre style=\"white-space:pre;overflow-x:auto;line-height:normal;font-family:Menlo,'DejaVu Sans Mono',consolas,'Courier New',monospace\"></pre>\n"
            ]
          },
          "metadata": {}
        },
        {
          "output_type": "stream",
          "name": "stdout",
          "text": [
            "Epoch 1/10\n",
            "\u001b[1m3/3\u001b[0m \u001b[32m━━━━━━━━━━━━━━━━━━━━\u001b[0m\u001b[37m\u001b[0m \u001b[1m1s\u001b[0m 148ms/step - accuracy: 0.3164 - loss: 4.3370 - val_accuracy: 0.1667 - val_loss: 5.2317\n",
            "Epoch 2/10\n",
            "\u001b[1m3/3\u001b[0m \u001b[32m━━━━━━━━━━━━━━━━━━━━\u001b[0m\u001b[37m\u001b[0m \u001b[1m0s\u001b[0m 37ms/step - accuracy: 0.2773 - loss: 4.2880 - val_accuracy: 0.1667 - val_loss: 4.9563\n",
            "Epoch 3/10\n",
            "\u001b[1m3/3\u001b[0m \u001b[32m━━━━━━━━━━━━━━━━━━━━\u001b[0m\u001b[37m\u001b[0m \u001b[1m0s\u001b[0m 35ms/step - accuracy: 0.2812 - loss: 4.1368 - val_accuracy: 0.1667 - val_loss: 4.6869\n",
            "Epoch 4/10\n",
            "\u001b[1m3/3\u001b[0m \u001b[32m━━━━━━━━━━━━━━━━━━━━\u001b[0m\u001b[37m\u001b[0m \u001b[1m0s\u001b[0m 59ms/step - accuracy: 0.3164 - loss: 3.7409 - val_accuracy: 0.1667 - val_loss: 4.4264\n",
            "Epoch 5/10\n",
            "\u001b[1m3/3\u001b[0m \u001b[32m━━━━━━━━━━━━━━━━━━━━\u001b[0m\u001b[37m\u001b[0m \u001b[1m0s\u001b[0m 57ms/step - accuracy: 0.3203 - loss: 3.4362 - val_accuracy: 0.1667 - val_loss: 4.1727\n",
            "Epoch 6/10\n",
            "\u001b[1m3/3\u001b[0m \u001b[32m━━━━━━━━━━━━━━━━━━━━\u001b[0m\u001b[37m\u001b[0m \u001b[1m0s\u001b[0m 41ms/step - accuracy: 0.3047 - loss: 3.3072 - val_accuracy: 0.1667 - val_loss: 3.9290\n",
            "Epoch 7/10\n",
            "\u001b[1m3/3\u001b[0m \u001b[32m━━━━━━━━━━━━━━━━━━━━\u001b[0m\u001b[37m\u001b[0m \u001b[1m0s\u001b[0m 57ms/step - accuracy: 0.3359 - loss: 2.8244 - val_accuracy: 0.1667 - val_loss: 3.6988\n",
            "Epoch 8/10\n",
            "\u001b[1m3/3\u001b[0m \u001b[32m━━━━━━━━━━━━━━━━━━━━\u001b[0m\u001b[37m\u001b[0m \u001b[1m0s\u001b[0m 38ms/step - accuracy: 0.2201 - loss: 3.1074 - val_accuracy: 0.0417 - val_loss: 3.4783\n",
            "Epoch 9/10\n",
            "\u001b[1m3/3\u001b[0m \u001b[32m━━━━━━━━━━━━━━━━━━━━\u001b[0m\u001b[37m\u001b[0m \u001b[1m0s\u001b[0m 36ms/step - accuracy: 0.0534 - loss: 3.1539 - val_accuracy: 0.0000e+00 - val_loss: 3.2716\n",
            "Epoch 10/10\n",
            "\u001b[1m3/3\u001b[0m \u001b[32m━━━━━━━━━━━━━━━━━━━━\u001b[0m\u001b[37m\u001b[0m \u001b[1m0s\u001b[0m 148ms/step - accuracy: 0.0169 - loss: 2.5988 - val_accuracy: 0.0000e+00 - val_loss: 3.0873\n"
          ]
        },
        {
          "output_type": "stream",
          "name": "stderr",
          "text": [
            "2025/02/09 12:58:24 WARNING mlflow.keras.save: You are saving a Keras model without specifying model signature.\n",
            "\u001b[31m2025/02/09 12:58:36 WARNING mlflow.models.model: Model logged without a signature and input example. Please set `input_example` parameter when logging the model to auto infer the model signature.\u001b[0m\n"
          ]
        },
        {
          "output_type": "stream",
          "name": "stdout",
          "text": [
            "🏃 View run model 2 at: https://4fc2-35-204-237-43.ngrok-free.app/#/experiments/907868459828082659/runs/72d9050a4e9e4561bad5d6f742eec903\n",
            "🧪 View experiment at: https://4fc2-35-204-237-43.ngrok-free.app/#/experiments/907868459828082659\n"
          ]
        },
        {
          "output_type": "display_data",
          "data": {
            "text/plain": [],
            "text/html": [
              "<pre style=\"white-space:pre;overflow-x:auto;line-height:normal;font-family:Menlo,'DejaVu Sans Mono',consolas,'Courier New',monospace\"></pre>\n"
            ]
          },
          "metadata": {}
        },
        {
          "output_type": "stream",
          "name": "stdout",
          "text": [
            "Epoch 1/10\n",
            "\u001b[1m3/3\u001b[0m \u001b[32m━━━━━━━━━━━━━━━━━━━━\u001b[0m\u001b[37m\u001b[0m \u001b[1m1s\u001b[0m 132ms/step - accuracy: 0.3490 - loss: 1.1765 - val_accuracy: 0.4167 - val_loss: 1.0736\n",
            "Epoch 2/10\n",
            "\u001b[1m3/3\u001b[0m \u001b[32m━━━━━━━━━━━━━━━━━━━━\u001b[0m\u001b[37m\u001b[0m \u001b[1m0s\u001b[0m 34ms/step - accuracy: 0.3763 - loss: 1.1201 - val_accuracy: 0.4167 - val_loss: 1.0332\n",
            "Epoch 3/10\n",
            "\u001b[1m3/3\u001b[0m \u001b[32m━━━━━━━━━━━━━━━━━━━━\u001b[0m\u001b[37m\u001b[0m \u001b[1m0s\u001b[0m 37ms/step - accuracy: 0.3529 - loss: 1.0988 - val_accuracy: 0.4167 - val_loss: 1.0036\n",
            "Epoch 4/10\n",
            "\u001b[1m3/3\u001b[0m \u001b[32m━━━━━━━━━━━━━━━━━━━━\u001b[0m\u001b[37m\u001b[0m \u001b[1m0s\u001b[0m 40ms/step - accuracy: 0.3802 - loss: 1.0603 - val_accuracy: 0.4583 - val_loss: 0.9820\n",
            "Epoch 5/10\n",
            "\u001b[1m3/3\u001b[0m \u001b[32m━━━━━━━━━━━━━━━━━━━━\u001b[0m\u001b[37m\u001b[0m \u001b[1m0s\u001b[0m 40ms/step - accuracy: 0.3802 - loss: 1.0556 - val_accuracy: 0.5833 - val_loss: 0.9672\n",
            "Epoch 6/10\n",
            "\u001b[1m3/3\u001b[0m \u001b[32m━━━━━━━━━━━━━━━━━━━━\u001b[0m\u001b[37m\u001b[0m \u001b[1m0s\u001b[0m 57ms/step - accuracy: 0.3945 - loss: 1.0322 - val_accuracy: 0.3750 - val_loss: 0.9595\n",
            "Epoch 7/10\n",
            "\u001b[1m3/3\u001b[0m \u001b[32m━━━━━━━━━━━━━━━━━━━━\u001b[0m\u001b[37m\u001b[0m \u001b[1m0s\u001b[0m 38ms/step - accuracy: 0.3659 - loss: 1.0165 - val_accuracy: 0.3750 - val_loss: 0.9543\n",
            "Epoch 8/10\n",
            "\u001b[1m3/3\u001b[0m \u001b[32m━━━━━━━━━━━━━━━━━━━━\u001b[0m\u001b[37m\u001b[0m \u001b[1m0s\u001b[0m 73ms/step - accuracy: 0.3477 - loss: 1.0278 - val_accuracy: 0.4167 - val_loss: 0.9513\n",
            "Epoch 9/10\n",
            "\u001b[1m3/3\u001b[0m \u001b[32m━━━━━━━━━━━━━━━━━━━━\u001b[0m\u001b[37m\u001b[0m \u001b[1m0s\u001b[0m 62ms/step - accuracy: 0.3555 - loss: 1.0171 - val_accuracy: 0.4167 - val_loss: 0.9498\n",
            "Epoch 10/10\n",
            "\u001b[1m3/3\u001b[0m \u001b[32m━━━━━━━━━━━━━━━━━━━━\u001b[0m\u001b[37m\u001b[0m \u001b[1m0s\u001b[0m 54ms/step - accuracy: 0.3867 - loss: 1.0080 - val_accuracy: 0.4167 - val_loss: 0.9481\n"
          ]
        },
        {
          "output_type": "stream",
          "name": "stderr",
          "text": [
            "2025/02/09 12:59:00 WARNING mlflow.keras.save: You are saving a Keras model without specifying model signature.\n",
            "\u001b[31m2025/02/09 12:59:14 WARNING mlflow.models.model: Model logged without a signature and input example. Please set `input_example` parameter when logging the model to auto infer the model signature.\u001b[0m\n"
          ]
        },
        {
          "output_type": "stream",
          "name": "stdout",
          "text": [
            "🏃 View run model 3 at: https://4fc2-35-204-237-43.ngrok-free.app/#/experiments/907868459828082659/runs/b6001216c33b4fc7a639eae1128fe0e2\n",
            "🧪 View experiment at: https://4fc2-35-204-237-43.ngrok-free.app/#/experiments/907868459828082659\n"
          ]
        },
        {
          "output_type": "display_data",
          "data": {
            "text/plain": [],
            "text/html": [
              "<pre style=\"white-space:pre;overflow-x:auto;line-height:normal;font-family:Menlo,'DejaVu Sans Mono',consolas,'Courier New',monospace\"></pre>\n"
            ]
          },
          "metadata": {}
        },
        {
          "output_type": "stream",
          "name": "stdout",
          "text": [
            "Epoch 1/10\n",
            "\u001b[1m3/3\u001b[0m \u001b[32m━━━━━━━━━━━━━━━━━━━━\u001b[0m\u001b[37m\u001b[0m \u001b[1m1s\u001b[0m 137ms/step - accuracy: 0.5104 - loss: 3.3057 - val_accuracy: 0.5833 - val_loss: 2.1416\n",
            "Epoch 2/10\n",
            "\u001b[1m3/3\u001b[0m \u001b[32m━━━━━━━━━━━━━━━━━━━━\u001b[0m\u001b[37m\u001b[0m \u001b[1m0s\u001b[0m 35ms/step - accuracy: 0.5234 - loss: 3.4587 - val_accuracy: 0.5833 - val_loss: 2.1013\n",
            "Epoch 3/10\n",
            "\u001b[1m3/3\u001b[0m \u001b[32m━━━━━━━━━━━━━━━━━━━━\u001b[0m\u001b[37m\u001b[0m \u001b[1m0s\u001b[0m 37ms/step - accuracy: 0.5026 - loss: 3.2524 - val_accuracy: 0.6667 - val_loss: 2.0637\n",
            "Epoch 4/10\n",
            "\u001b[1m3/3\u001b[0m \u001b[32m━━━━━━━━━━━━━━━━━━━━\u001b[0m\u001b[37m\u001b[0m \u001b[1m0s\u001b[0m 42ms/step - accuracy: 0.5221 - loss: 3.3551 - val_accuracy: 0.6250 - val_loss: 2.0292\n",
            "Epoch 5/10\n",
            "\u001b[1m3/3\u001b[0m \u001b[32m━━━━━━━━━━━━━━━━━━━━\u001b[0m\u001b[37m\u001b[0m \u001b[1m0s\u001b[0m 58ms/step - accuracy: 0.5234 - loss: 3.2737 - val_accuracy: 0.6667 - val_loss: 1.9962\n",
            "Epoch 6/10\n",
            "\u001b[1m3/3\u001b[0m \u001b[32m━━━━━━━━━━━━━━━━━━━━\u001b[0m\u001b[37m\u001b[0m \u001b[1m0s\u001b[0m 72ms/step - accuracy: 0.5508 - loss: 3.1190 - val_accuracy: 0.5417 - val_loss: 1.9655\n",
            "Epoch 7/10\n",
            "\u001b[1m3/3\u001b[0m \u001b[32m━━━━━━━━━━━━━━━━━━━━\u001b[0m\u001b[37m\u001b[0m \u001b[1m0s\u001b[0m 63ms/step - accuracy: 0.4987 - loss: 3.1979 - val_accuracy: 0.5417 - val_loss: 1.9363\n",
            "Epoch 8/10\n",
            "\u001b[1m3/3\u001b[0m \u001b[32m━━━━━━━━━━━━━━━━━━━━\u001b[0m\u001b[37m\u001b[0m \u001b[1m0s\u001b[0m 73ms/step - accuracy: 0.5729 - loss: 2.7248 - val_accuracy: 0.5000 - val_loss: 1.9084\n",
            "Epoch 9/10\n",
            "\u001b[1m3/3\u001b[0m \u001b[32m━━━━━━━━━━━━━━━━━━━━\u001b[0m\u001b[37m\u001b[0m \u001b[1m0s\u001b[0m 84ms/step - accuracy: 0.5143 - loss: 2.9177 - val_accuracy: 0.5417 - val_loss: 1.8810\n",
            "Epoch 10/10\n",
            "\u001b[1m3/3\u001b[0m \u001b[32m━━━━━━━━━━━━━━━━━━━━\u001b[0m\u001b[37m\u001b[0m \u001b[1m0s\u001b[0m 53ms/step - accuracy: 0.5312 - loss: 2.9994 - val_accuracy: 0.6250 - val_loss: 1.8540\n"
          ]
        },
        {
          "output_type": "stream",
          "name": "stderr",
          "text": [
            "2025/02/09 12:59:36 WARNING mlflow.keras.save: You are saving a Keras model without specifying model signature.\n",
            "\u001b[31m2025/02/09 12:59:46 WARNING mlflow.models.model: Model logged without a signature and input example. Please set `input_example` parameter when logging the model to auto infer the model signature.\u001b[0m\n"
          ]
        },
        {
          "output_type": "stream",
          "name": "stdout",
          "text": [
            "🏃 View run model 4 at: https://4fc2-35-204-237-43.ngrok-free.app/#/experiments/907868459828082659/runs/8331a264fdfd4201a82ebd59e6bc2b2e\n",
            "🧪 View experiment at: https://4fc2-35-204-237-43.ngrok-free.app/#/experiments/907868459828082659\n"
          ]
        }
      ]
    },
    {
      "cell_type": "markdown",
      "source": [
        "# Model register"
      ],
      "metadata": {
        "id": "lCxVCgI384qV"
      }
    },
    {
      "cell_type": "code",
      "source": [
        "model_run = \"runs:/657f250164e1456295ead5d53b8d28d8/model\""
      ],
      "metadata": {
        "id": "cLmDNMLT84N8"
      },
      "execution_count": null,
      "outputs": []
    },
    {
      "cell_type": "code",
      "source": [
        "registerd_model = mlflow.register_model(model_run, \"my_model\")"
      ],
      "metadata": {
        "colab": {
          "base_uri": "https://localhost:8080/"
        },
        "id": "pnzoMpnL9LbF",
        "outputId": "a126547e-ab01-4ff3-93eb-f9ac73f83109"
      },
      "execution_count": null,
      "outputs": [
        {
          "output_type": "stream",
          "name": "stderr",
          "text": [
            "Successfully registered model 'my_model'.\n",
            "2025/02/09 13:45:39 INFO mlflow.store.model_registry.abstract_store: Waiting up to 300 seconds for model version to finish creation. Model name: my_model, version 1\n",
            "Created version '1' of model 'my_model'.\n"
          ]
        }
      ]
    },
    {
      "cell_type": "code",
      "source": [
        "registerd_model.version"
      ],
      "metadata": {
        "colab": {
          "base_uri": "https://localhost:8080/",
          "height": 36
        },
        "id": "Z4WCPqiH_oKw",
        "outputId": "fe8680c4-6a7b-4c93-c04e-375885401a98"
      },
      "execution_count": null,
      "outputs": [
        {
          "output_type": "execute_result",
          "data": {
            "text/plain": [
              "'1'"
            ],
            "application/vnd.google.colaboratory.intrinsic+json": {
              "type": "string"
            }
          },
          "metadata": {},
          "execution_count": 69
        }
      ]
    },
    {
      "cell_type": "code",
      "source": [
        "from mlflow.tracking import MlflowClient\n",
        "\n",
        "client = MlflowClient()\n",
        "client.transition_model_version_stage(\n",
        "    name=\"my_model\",\n",
        "    version=registerd_model.version,\n",
        "    stage=\"Production\"\n",
        ")"
      ],
      "metadata": {
        "colab": {
          "base_uri": "https://localhost:8080/"
        },
        "id": "vAyF5S2v_tZH",
        "outputId": "8ea27c15-581e-45cd-90c8-701049b91db5"
      },
      "execution_count": null,
      "outputs": [
        {
          "output_type": "stream",
          "name": "stderr",
          "text": [
            "<ipython-input-70-b5c98b6e559e>:4: FutureWarning: ``mlflow.tracking.client.MlflowClient.transition_model_version_stage`` is deprecated since 2.9.0. Model registry stages will be removed in a future major release. To learn more about the deprecation of model registry stages, see our migration guide here: https://mlflow.org/docs/latest/model-registry.html#migrating-from-stages\n",
            "  client.transition_model_version_stage(\n"
          ]
        },
        {
          "output_type": "execute_result",
          "data": {
            "text/plain": [
              "<ModelVersion: aliases=[], creation_timestamp=1739108739089, current_stage='Production', description='', last_updated_timestamp=1739109467407, name='my_model', run_id='657f250164e1456295ead5d53b8d28d8', run_link='', source='mlflow-artifacts:/619786673704144293/657f250164e1456295ead5d53b8d28d8/artifacts/model', status='READY', status_message=None, tags={}, user_id='', version='1'>"
            ]
          },
          "metadata": {},
          "execution_count": 70
        }
      ]
    }
  ]
}